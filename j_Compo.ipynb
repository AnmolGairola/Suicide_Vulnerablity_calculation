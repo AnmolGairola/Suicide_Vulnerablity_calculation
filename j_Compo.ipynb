{
 "cells": [
  {
   "cell_type": "code",
   "execution_count": 2,
   "id": "fd053841",
   "metadata": {},
   "outputs": [],
   "source": [
    "import pandas as pd"
   ]
  },
  {
   "cell_type": "code",
   "execution_count": 10,
   "id": "81bdc1f8",
   "metadata": {},
   "outputs": [
    {
     "data": {
      "text/html": [
       "<div>\n",
       "<style scoped>\n",
       "    .dataframe tbody tr th:only-of-type {\n",
       "        vertical-align: middle;\n",
       "    }\n",
       "\n",
       "    .dataframe tbody tr th {\n",
       "        vertical-align: top;\n",
       "    }\n",
       "\n",
       "    .dataframe thead th {\n",
       "        text-align: right;\n",
       "    }\n",
       "</style>\n",
       "<table border=\"1\" class=\"dataframe\">\n",
       "  <thead>\n",
       "    <tr style=\"text-align: right;\">\n",
       "      <th></th>\n",
       "      <th>Row Labels</th>\n",
       "      <th>Sum of Total</th>\n",
       "      <th>Probablity</th>\n",
       "    </tr>\n",
       "  </thead>\n",
       "  <tbody>\n",
       "    <tr>\n",
       "      <th>0</th>\n",
       "      <td>0-14</td>\n",
       "      <td>98410</td>\n",
       "      <td>0.022695</td>\n",
       "    </tr>\n",
       "    <tr>\n",
       "      <th>1</th>\n",
       "      <td>15-29</td>\n",
       "      <td>1534037</td>\n",
       "      <td>0.353779</td>\n",
       "    </tr>\n",
       "    <tr>\n",
       "      <th>2</th>\n",
       "      <td>30-44</td>\n",
       "      <td>1471599</td>\n",
       "      <td>0.339379</td>\n",
       "    </tr>\n",
       "    <tr>\n",
       "      <th>3</th>\n",
       "      <td>45-59</td>\n",
       "      <td>885177</td>\n",
       "      <td>0.204139</td>\n",
       "    </tr>\n",
       "    <tr>\n",
       "      <th>4</th>\n",
       "      <td>60+</td>\n",
       "      <td>346925</td>\n",
       "      <td>0.080008</td>\n",
       "    </tr>\n",
       "  </tbody>\n",
       "</table>\n",
       "</div>"
      ],
      "text/plain": [
       "  Row Labels  Sum of Total  Probablity\n",
       "0       0-14         98410    0.022695\n",
       "1      15-29       1534037    0.353779\n",
       "2      30-44       1471599    0.339379\n",
       "3      45-59        885177    0.204139\n",
       "4        60+        346925    0.080008"
      ]
     },
     "execution_count": 10,
     "metadata": {},
     "output_type": "execute_result"
    }
   ],
   "source": [
    "age = pd.read_csv('age.csv')\n",
    "age.head()"
   ]
  },
  {
   "cell_type": "code",
   "execution_count": 4,
   "id": "9698d940",
   "metadata": {},
   "outputs": [
    {
     "data": {
      "text/html": [
       "<div>\n",
       "<style scoped>\n",
       "    .dataframe tbody tr th:only-of-type {\n",
       "        vertical-align: middle;\n",
       "    }\n",
       "\n",
       "    .dataframe tbody tr th {\n",
       "        vertical-align: top;\n",
       "    }\n",
       "\n",
       "    .dataframe thead th {\n",
       "        text-align: right;\n",
       "    }\n",
       "</style>\n",
       "<table border=\"1\" class=\"dataframe\">\n",
       "  <thead>\n",
       "    <tr style=\"text-align: right;\">\n",
       "      <th></th>\n",
       "      <th>Causes</th>\n",
       "      <th>Sum</th>\n",
       "      <th>Probablity</th>\n",
       "    </tr>\n",
       "  </thead>\n",
       "  <tbody>\n",
       "    <tr>\n",
       "      <th>0</th>\n",
       "      <td>Bankruptcy or Sudden change in Economic</td>\n",
       "      <td>32755</td>\n",
       "      <td>0.002503</td>\n",
       "    </tr>\n",
       "    <tr>\n",
       "      <th>1</th>\n",
       "      <td>Bankruptcy or Sudden change in Economic Status</td>\n",
       "      <td>2655</td>\n",
       "      <td>0.000203</td>\n",
       "    </tr>\n",
       "    <tr>\n",
       "      <th>2</th>\n",
       "      <td>Cancellation/Non-Settlement of Marriage</td>\n",
       "      <td>11296</td>\n",
       "      <td>0.000863</td>\n",
       "    </tr>\n",
       "    <tr>\n",
       "      <th>3</th>\n",
       "      <td>Cancer</td>\n",
       "      <td>9058</td>\n",
       "      <td>0.000692</td>\n",
       "    </tr>\n",
       "    <tr>\n",
       "      <th>4</th>\n",
       "      <td>Causes Not known</td>\n",
       "      <td>237069</td>\n",
       "      <td>0.018113</td>\n",
       "    </tr>\n",
       "  </tbody>\n",
       "</table>\n",
       "</div>"
      ],
      "text/plain": [
       "                                           Causes     Sum  Probablity\n",
       "0         Bankruptcy or Sudden change in Economic   32755    0.002503\n",
       "1  Bankruptcy or Sudden change in Economic Status    2655    0.000203\n",
       "2         Cancellation/Non-Settlement of Marriage   11296    0.000863\n",
       "3                                          Cancer    9058    0.000692\n",
       "4                                Causes Not known  237069    0.018113"
      ]
     },
     "execution_count": 4,
     "metadata": {},
     "output_type": "execute_result"
    }
   ],
   "source": [
    "causes = pd.read_csv('causes.csv')\n",
    "causes.head()"
   ]
  },
  {
   "cell_type": "code",
   "execution_count": 5,
   "id": "60921722",
   "metadata": {},
   "outputs": [
    {
     "data": {
      "text/html": [
       "<div>\n",
       "<style scoped>\n",
       "    .dataframe tbody tr th:only-of-type {\n",
       "        vertical-align: middle;\n",
       "    }\n",
       "\n",
       "    .dataframe tbody tr th {\n",
       "        vertical-align: top;\n",
       "    }\n",
       "\n",
       "    .dataframe thead th {\n",
       "        text-align: right;\n",
       "    }\n",
       "</style>\n",
       "<table border=\"1\" class=\"dataframe\">\n",
       "  <thead>\n",
       "    <tr style=\"text-align: right;\">\n",
       "      <th></th>\n",
       "      <th>Row Labels</th>\n",
       "      <th>Sum of Total</th>\n",
       "      <th>Probablity</th>\n",
       "    </tr>\n",
       "  </thead>\n",
       "  <tbody>\n",
       "    <tr>\n",
       "      <th>0</th>\n",
       "      <td>Female</td>\n",
       "      <td>4702974</td>\n",
       "      <td>0.359782</td>\n",
       "    </tr>\n",
       "    <tr>\n",
       "      <th>1</th>\n",
       "      <td>Male</td>\n",
       "      <td>8368760</td>\n",
       "      <td>0.640218</td>\n",
       "    </tr>\n",
       "  </tbody>\n",
       "</table>\n",
       "</div>"
      ],
      "text/plain": [
       "  Row Labels  Sum of Total  Probablity\n",
       "0     Female       4702974    0.359782\n",
       "1       Male       8368760    0.640218"
      ]
     },
     "execution_count": 5,
     "metadata": {},
     "output_type": "execute_result"
    }
   ],
   "source": [
    "gender = pd.read_csv('gender.csv')\n",
    "gender.head()"
   ]
  },
  {
   "cell_type": "code",
   "execution_count": 6,
   "id": "d2acf4a3",
   "metadata": {},
   "outputs": [
    {
     "data": {
      "text/html": [
       "<div>\n",
       "<style scoped>\n",
       "    .dataframe tbody tr th:only-of-type {\n",
       "        vertical-align: middle;\n",
       "    }\n",
       "\n",
       "    .dataframe tbody tr th {\n",
       "        vertical-align: top;\n",
       "    }\n",
       "\n",
       "    .dataframe thead th {\n",
       "        text-align: right;\n",
       "    }\n",
       "</style>\n",
       "<table border=\"1\" class=\"dataframe\">\n",
       "  <thead>\n",
       "    <tr style=\"text-align: right;\">\n",
       "      <th></th>\n",
       "      <th>Professional_Profile</th>\n",
       "      <th>Sum</th>\n",
       "      <th>Probablity</th>\n",
       "    </tr>\n",
       "  </thead>\n",
       "  <tbody>\n",
       "    <tr>\n",
       "      <th>0</th>\n",
       "      <td>Farming/Agriculture Activity</td>\n",
       "      <td>197923</td>\n",
       "      <td>0.137519</td>\n",
       "    </tr>\n",
       "    <tr>\n",
       "      <th>1</th>\n",
       "      <td>House Wife</td>\n",
       "      <td>285243</td>\n",
       "      <td>0.198190</td>\n",
       "    </tr>\n",
       "    <tr>\n",
       "      <th>2</th>\n",
       "      <td>Others (Please Specify)</td>\n",
       "      <td>469147</td>\n",
       "      <td>0.325968</td>\n",
       "    </tr>\n",
       "    <tr>\n",
       "      <th>3</th>\n",
       "      <td>Professional Activity</td>\n",
       "      <td>39204</td>\n",
       "      <td>0.027239</td>\n",
       "    </tr>\n",
       "    <tr>\n",
       "      <th>4</th>\n",
       "      <td>Public Sector Undertaking</td>\n",
       "      <td>30786</td>\n",
       "      <td>0.021390</td>\n",
       "    </tr>\n",
       "  </tbody>\n",
       "</table>\n",
       "</div>"
      ],
      "text/plain": [
       "           Professional_Profile     Sum  Probablity\n",
       "0  Farming/Agriculture Activity  197923    0.137519\n",
       "1                    House Wife  285243    0.198190\n",
       "2       Others (Please Specify)  469147    0.325968\n",
       "3         Professional Activity   39204    0.027239\n",
       "4     Public Sector Undertaking   30786    0.021390"
      ]
     },
     "execution_count": 6,
     "metadata": {},
     "output_type": "execute_result"
    }
   ],
   "source": [
    "prof = pd.read_csv('profession.csv')\n",
    "prof.head()"
   ]
  },
  {
   "cell_type": "code",
   "execution_count": 13,
   "id": "58beca23",
   "metadata": {},
   "outputs": [
    {
     "data": {
      "text/html": [
       "<div>\n",
       "<style scoped>\n",
       "    .dataframe tbody tr th:only-of-type {\n",
       "        vertical-align: middle;\n",
       "    }\n",
       "\n",
       "    .dataframe tbody tr th {\n",
       "        vertical-align: top;\n",
       "    }\n",
       "\n",
       "    .dataframe thead th {\n",
       "        text-align: right;\n",
       "    }\n",
       "</style>\n",
       "<table border=\"1\" class=\"dataframe\">\n",
       "  <thead>\n",
       "    <tr style=\"text-align: right;\">\n",
       "      <th></th>\n",
       "      <th>Professional_Profile</th>\n",
       "      <th>Sum</th>\n",
       "      <th>Probablity</th>\n",
       "    </tr>\n",
       "  </thead>\n",
       "  <tbody>\n",
       "    <tr>\n",
       "      <th>0</th>\n",
       "      <td>Farming/Agriculture Activity</td>\n",
       "      <td>197923</td>\n",
       "      <td>0.137519</td>\n",
       "    </tr>\n",
       "    <tr>\n",
       "      <th>1</th>\n",
       "      <td>House Wife</td>\n",
       "      <td>285243</td>\n",
       "      <td>0.198190</td>\n",
       "    </tr>\n",
       "    <tr>\n",
       "      <th>2</th>\n",
       "      <td>Others (Please Specify)</td>\n",
       "      <td>469147</td>\n",
       "      <td>0.325968</td>\n",
       "    </tr>\n",
       "    <tr>\n",
       "      <th>3</th>\n",
       "      <td>Professional Activity</td>\n",
       "      <td>39204</td>\n",
       "      <td>0.027239</td>\n",
       "    </tr>\n",
       "    <tr>\n",
       "      <th>4</th>\n",
       "      <td>Public Sector Undertaking</td>\n",
       "      <td>30786</td>\n",
       "      <td>0.021390</td>\n",
       "    </tr>\n",
       "  </tbody>\n",
       "</table>\n",
       "</div>"
      ],
      "text/plain": [
       "           Professional_Profile     Sum  Probablity\n",
       "0  Farming/Agriculture Activity  197923    0.137519\n",
       "1                    House Wife  285243    0.198190\n",
       "2       Others (Please Specify)  469147    0.325968\n",
       "3         Professional Activity   39204    0.027239\n",
       "4     Public Sector Undertaking   30786    0.021390"
      ]
     },
     "execution_count": 13,
     "metadata": {},
     "output_type": "execute_result"
    }
   ],
   "source": [
    "social = pd.read_csv('social.csv')\n",
    "prof.head()"
   ]
  },
  {
   "cell_type": "code",
   "execution_count": 14,
   "id": "26d3ec63",
   "metadata": {},
   "outputs": [],
   "source": [
    "personA = {'age': '15-29', \n",
    "           'causes': 'Death of Dear Person', \n",
    "           'gender': 'Female',\n",
    "           'prof': 'House Wife',\n",
    "           'social': 'Widowed/Widower'}"
   ]
  },
  {
   "cell_type": "code",
   "execution_count": 15,
   "id": "e84b2d0f",
   "metadata": {},
   "outputs": [],
   "source": [
    "personA[\"probablity\"] = age[\"Probablity\"][age['Row Labels'] == personA['age']].tolist()[0] * causes[\"Probablity\"][causes['Causes'] == personA['causes']].tolist()[0] *gender[\"Probablity\"][gender['Row Labels'] == personA['gender']].tolist()[0] *prof[\"Probablity\"][prof['Professional_Profile'] == personA['prof']].tolist()[0] *social[\"Probablity\"][social['Social_Status'] == personA['social']].tolist()[0] "
   ]
  },
  {
   "cell_type": "code",
   "execution_count": 103,
   "id": "8f8d9e34",
   "metadata": {},
   "outputs": [
    {
     "data": {
      "text/plain": [
       "{'age': '15-29',\n",
       " 'causes': 'Death of Dear Person',\n",
       " 'gender': 'Female',\n",
       " 'prof': 'House Wife',\n",
       " 'social': 'Widowed/Widower',\n",
       " 'probablity': 8.48649653018369e-07}"
      ]
     },
     "execution_count": 103,
     "metadata": {},
     "output_type": "execute_result"
    }
   ],
   "source": [
    "personA"
   ]
  },
  {
   "cell_type": "code",
   "execution_count": 111,
   "id": "20846833",
   "metadata": {},
   "outputs": [],
   "source": [
    "personB = {'age': '45-59', \n",
    "           'causes': 'Bankruptcy or Sudden change in Economic', \n",
    "           'gender': 'Male',\n",
    "           'prof': 'Public Sector Undertaking',\n",
    "           'social': 'Married'}"
   ]
  },
  {
   "cell_type": "code",
   "execution_count": 113,
   "id": "7bf12157",
   "metadata": {},
   "outputs": [],
   "source": [
    "personB[\"probablity\"] = age[\"Probablity\"][age['Row Labels'] == personB['age']].tolist()[0] * causes[\"Probablity\"][causes['Causes'] == personB['causes']].tolist()[0] *gender[\"Probablity\"][gender['Row Labels'] == personB['gender']].tolist()[0] *prof[\"Probablity\"][prof['Professional_Profile'] == personB['prof']].tolist()[0] *social[\"Probablity\"][social['Social_Status'] == personB['social']].tolist()[0] "
   ]
  },
  {
   "cell_type": "code",
   "execution_count": 115,
   "id": "3e05c603",
   "metadata": {},
   "outputs": [
    {
     "data": {
      "text/plain": [
       "{'age': '45-59',\n",
       " 'causes': 'Bankruptcy or Sudden change in Economic',\n",
       " 'gender': 'Male',\n",
       " 'prof': 'Public Sector Undertaking',\n",
       " 'social': 'Married',\n",
       " 'probablity': 4.909955067174665e-06}"
      ]
     },
     "execution_count": 115,
     "metadata": {},
     "output_type": "execute_result"
    }
   ],
   "source": [
    "personB"
   ]
  },
  {
   "cell_type": "code",
   "execution_count": 114,
   "id": "5a6b5580",
   "metadata": {},
   "outputs": [
    {
     "name": "stdout",
     "output_type": "stream",
     "text": [
      "Person B is more vulnerable\n"
     ]
    }
   ],
   "source": [
    "if(personA[\"probablity\"] > personB[\"probablity\"]): \n",
    "    print(\"Person A is more vulnerable\")\n",
    "\n",
    "else:\n",
    "    print(\"Person B is more vulnerable\")"
   ]
  }
 ],
 "metadata": {
  "kernelspec": {
   "display_name": "Python 3",
   "language": "python",
   "name": "python3"
  },
  "language_info": {
   "codemirror_mode": {
    "name": "ipython",
    "version": 3
   },
   "file_extension": ".py",
   "mimetype": "text/x-python",
   "name": "python",
   "nbconvert_exporter": "python",
   "pygments_lexer": "ipython3",
   "version": "3.8.8"
  }
 },
 "nbformat": 4,
 "nbformat_minor": 5
}
